{
 "cells": [
  {
   "cell_type": "markdown",
   "metadata": {},
   "source": [
    "# SNP detection \n",
    "Split reads into subreads based on the 51bp reference\n",
    "\n",
    "To detect the SNP the reads are spliced into subreads using the 51bp reference (25bp flanking each side of the SNP) and the barcoded sequence data. \n",
    "This works just like splicing based on primersequences. \n",
    "The spliced subreads are mapped against the reference and the SNP profile is identified. \n",
    "\n",
    "1) Loading reference and sequencing data\n",
    "\n",
    "2) Using a fuzzy regex to splice the reads into subreads\n",
    "\n",
    "3) BWA based mapping, SAMtools sorting and BCFtools profile generation"
   ]
  },
  {
   "cell_type": "markdown",
   "metadata": {},
   "source": [
    "## Loading reference and sequencing data\n",
    "Inlezen van referentie ipv de primers\n",
    "Fasta of csv...."
   ]
  },
  {
   "cell_type": "code",
   "execution_count": 67,
   "metadata": {
    "collapsed": false
   },
   "outputs": [
    {
     "name": "stdout",
     "output_type": "stream",
     "text": [
      "Loaded primers for 52 loci\n"
     ]
    }
   ],
   "source": [
    "# Load primer sequences (comma separated: snp_name,forward_primer_seq,reverse_primer_seq)\n",
    "\n",
    "################## Hier moeten we dus een referentie van 52 SNPs aan toevoegen! ##########################\n",
    "\n",
    "primerFile = '/home/senne/nanopore/SNP/primers2.csv'\n",
    "#Ook terug te vinden in /home/senne/nanopore/Multiplex/Reference_sequences/SNP/SNPprimers.csv\n",
    "primerData = {}\n",
    "\n",
    "with open(primerFile) as f:\n",
    "  for l in f:\n",
    "    l = l.strip()\n",
    "    \n",
    "    # Ignore the column header line (should start with a '#')\n",
    "    if l.startswith('#'):\n",
    "      continue\n",
    "    \n",
    "    locus, fPrimer, rPrimer = l.split(',')\n",
    "    primerData[locus] = {'f': fPrimer, 'r': rPrimer}\n",
    "    \n",
    "print('Loaded primers for {} loci'.format(len(primerData)))"
   ]
  },
  {
   "cell_type": "code",
   "execution_count": 68,
   "metadata": {
    "collapsed": false
   },
   "outputs": [
    {
     "name": "stdout",
     "output_type": "stream",
     "text": [
      "Loaded 9851 sequences\n"
     ]
    }
   ],
   "source": [
    "# Load sequencing data (ligated alleles)\n",
    "#\n",
    "\n",
    "readFile = '/home/senne/nanopore/Multiplex/results/barcode_NB08.fasta'\n",
    "readData = {}\n",
    "\n",
    "with open(readFile) as f:\n",
    "  cnt = 0\n",
    "\n",
    "  for l in f:\n",
    "    cnt += 1\n",
    "    if cnt % 2 == 1:\n",
    "      seqName = l.strip()\n",
    "    elif cnt % 2 == 0:\n",
    "      seqData = l.strip()\n",
    "      readData[seqName] = seqData\n",
    "    else:\n",
    "      continue\n",
    "            \n",
    "print('Loaded {} sequences'.format(len(readData)))\n"
   ]
  },
  {
   "cell_type": "markdown",
   "metadata": {},
   "source": [
    "## Using a fuzzy regex to splice the reads into subreads"
   ]
  },
  {
   "cell_type": "code",
   "execution_count": 69,
   "metadata": {
    "collapsed": true
   },
   "outputs": [],
   "source": [
    "# Utility functions\n",
    "#\n",
    "\n",
    "def reverseComplement(seq):\n",
    "  transTab = str.maketrans('agctyrwskmdvhbAGCTYRWSKMDVHB', 'tcgarywsmkhbdvTCGARYWSMKHBDV')\n",
    "  return seq.translate(transTab)[::-1]"
   ]
  },
  {
   "cell_type": "code",
   "execution_count": 70,
   "metadata": {
    "collapsed": false
   },
   "outputs": [
    {
     "name": "stdout",
     "output_type": "stream",
     "text": [
      "rs1005533\n",
      "rs1015250\n",
      "rs1024116\n",
      "rs1028528\n",
      "rs1029047\n",
      "rs1031825\n",
      "rs10495407\n",
      "rs1335873\n",
      "rs1355366\n",
      "rs1357617\n",
      "rs1360288\n",
      "rs1382387\n",
      "rs1413212\n",
      "rs1454361\n",
      "rs1463729\n",
      "rs1490413\n",
      "rs1493232\n",
      "rs1528460\n",
      "rs1886510\n",
      "rs1979255\n",
      "rs2016276\n",
      "rs2040411\n",
      "rs2046361\n",
      "rs2056277\n",
      "rs2076848\n",
      "rs2107612\n",
      "rs2111980\n",
      "rs251934\n",
      "rs2830795\n",
      "rs2831700\n",
      "rs354439\n",
      "rs717302\n",
      "rs719366\n",
      "rs722098\n",
      "rs727811\n",
      "rs729172\n",
      "rs733164\n",
      "rs735155\n",
      "rs737681\n",
      "rs740910\n",
      "rs763869\n",
      "rs8037429\n",
      "rs826472\n",
      "rs873196\n",
      "rs876724\n",
      "rs891700\n",
      "rs901398\n",
      "rs907100\n",
      "rs914165\n",
      "rs917118\n",
      "rs938283\n",
      "rs964681\n",
      "Done\n"
     ]
    }
   ],
   "source": [
    "# Aantal mogelijkheden van de referentie is beperkt. \n",
    "# Forward en reverse compliment.\n",
    "\n",
    "############################## Vanaf hier verder aanpassen ############################################################\n",
    "# De naamgeving moet aangepast worden, geen primers maar referenties\n",
    "# Geen rev ed meer, enkel nog de gewonen referentie en revComp\n",
    "import regex\n",
    "\n",
    "maxMisMatch  = 3\n",
    "matchPosData = {}\n",
    "ampliconSeq  = []\n",
    "ampLenData   = {}\n",
    "\n",
    "for locus in sorted(primerData):\n",
    "    # DEBUG\n",
    "    #if len(ampLenData)==4: break\n",
    "\n",
    "    # Init\n",
    "    ampLenData[locus] = {}\n",
    "        \n",
    "    # Regex\n",
    "    pFor   = regex.compile('(?e)({}){{e<={}}}'.format(primerData[locus]['f'], maxMisMatch))\n",
    "    pForRc = regex.compile('(?e)({}){{e<={}}}'.format(reverseComplement(primerData[locus]['f']), maxMisMatch))\n",
    "    pRev   = regex.compile('(?e)({}){{e<={}}}'.format(primerData[locus]['r'], maxMisMatch))\n",
    "    pRevRc = regex.compile('(?e)({}){{e<={}}}'.format(reverseComplement(primerData[locus]['r']), maxMisMatch))\n",
    "    \n",
    "    allowedPairs      = [(pFor, pRevRc), (pRev, pForRc)]\n",
    "    allowedPairSense  = ('sense', 'anti-sense')\n",
    "    allowedPairSeqLen = ((len(primerData[locus]['f']), len(primerData[locus]['r'])), (len(primerData[locus]['r']), len(primerData[locus]['f'])))\n",
    "    minAmpliconSize   = 50\n",
    "    maxAmpliconSize   = 150\n",
    "    readCnt           = 0\n",
    "    \n",
    "    # Print locus name to indicate progress\n",
    "    print(locus)\n",
    "    \n",
    "    for seq in readData:\n",
    "        readCnt += 1\n",
    "        \n",
    "        # DEBUG\n",
    "        #if readCount == 100: break\n",
    "        \n",
    "        #for pair in allowedPairs:\n",
    "        for i in range(len(allowedPairs)):\n",
    "            pair    = allowedPairs[i]\n",
    "            sense   = allowedPairSense[i]\n",
    "            posList = [[],[]]\n",
    "            \n",
    "            for match in pair[0].finditer(readData[seq]):\n",
    "                b,e = match.span()\n",
    "                posList[0].append(b) # Including the primer\n",
    "                #posList[0].append(e+1) # Excluding the primer, need to refine this if the error is the last nucleotide\n",
    "                \n",
    "            for match in pair[1].finditer(readData[seq]):\n",
    "                b,e = match.span()\n",
    "                posList[1].append(e) # Including the primer\n",
    "                #posList[1].append(b-1) # Excluding the primer, need to refine this if the error is the first nucleotide\n",
    "                \n",
    "            # Retain possible pairs based on amplicon size\n",
    "            if len(posList[0]) and len(posList[1]):\n",
    "                # DEBUG\n",
    "                #print('Found both {} primers in read {}: {}, {}'.format(locus, readCnt, posList[0], posList[1]))\n",
    "                \n",
    "                for p1 in posList[0]:\n",
    "                    for p2 in posList[1]:\n",
    "                        if minAmpliconSize < (p2 - p1) < maxAmpliconSize:\n",
    "                            # We have a potential amplicon?\n",
    "                            #ampLen  = p2 - p1\n",
    "                            sense   = '{} - {} ({})'.format(p1, p2, sense)\n",
    "                            ampSeq  = readData[seq][p1:p2]\n",
    "                            ampLen  = len(ampSeq)\n",
    "                            ampName = '{} {} ({}): {} {}'.format(len(ampliconSeq) + 1, locus, ampLen, sense, seq)\n",
    "                            ampliconSeq.append((ampName, ampSeq))\n",
    "                            \n",
    "                            # Keep amplicon lengths\n",
    "                            if ampLen in ampLenData[locus]:\n",
    "                                ampLenData[locus][ampLen] += 1\n",
    "                            else:\n",
    "                                ampLenData[locus][ampLen] = 1\n",
    "                            \n",
    "                            # DEBUG\n",
    "                            #print('{}, read:{}, amplen={}, {}'.format(locus, readCnt, ampLen, sense))\n",
    "                                                    \n",
    "    \n",
    "# Save potential amplicons\n",
    "outFile = '/home/senne/nanopore/Multiplex/results/SNP/SNP_BC8-{}mism.fasta'.format(maxMisMatch)\n",
    "with open(outFile, 'w') as f:\n",
    "    for amplicon in ampliconSeq:\n",
    "        f.write('>' + amplicon[0] + '\\n')\n",
    "        f.write(amplicon[1] + '\\n')\n",
    "    \n",
    "print('Done')"
   ]
  },
  {
   "cell_type": "markdown",
   "metadata": {},
   "source": [
    "## Looking up via mapping\n",
    "Is dit niet dubbel werk doen? Eerst regex en dan pas mapping is toch dubbel werk?"
   ]
  },
  {
   "cell_type": "code",
   "execution_count": 95,
   "metadata": {
    "collapsed": false
   },
   "outputs": [
    {
     "name": "stdout",
     "output_type": "stream",
     "text": [
      "/home/senne/nanopore/SNP/known_SNP_sequence/SNP_sequence.fasta\n",
      "Number of SNPs in reference file:\n",
      "52\n"
     ]
    }
   ],
   "source": [
    "# Init\n",
    "#\n",
    "NBarcode = 2\n",
    "\n",
    "snpFile   = '/home/senne/nanopore/SNP/known_SNP_sequence/SNP_sequence.fasta'  # REMOVE FIRST LINE IN ORIGINAL FILE (BREAKS FASTA FORMAT)\n",
    "readFile  = '/home/senne/nanopore/Multiplex/results/SNP/SNP_BC{}-3mism.fasta'.format(NBarcode)\n",
    "#resultDir = '/home/senne/nanopore/Multiplex/results/SNP'\n",
    "fastq_file_name= '/home/senne/nanopore/Multiplex/results/SNP/SNP_BC{}-3mism.fasta'.format(NBarcode)\n",
    "samfile = '/home/senne/nanopore/Multiplex/results/SNP/SNP_BC{}.sam'.format(NBarcode)\n",
    "bamfile = '/home/senne/nanopore/Multiplex/results/SNP/SNP_BC{}.bam'.format(NBarcode)\n",
    "bambaifile = '/home/senne/nanopore/Multiplex/results/SNP/SNP_BC{}.bam.bai'.format(NBarcode)\n",
    "vcffile = '/home/senne/nanopore/Multiplex/results/SNP/SNP_BC{}.bam.vcf'.format(NBarcode)\n",
    "csvfile = '/home/senne/nanopore/Multiplex/results/SNP/SNP_BC{}.csv'.format(NBarcode)\n",
    "\n",
    "bwa       = '/opt/tools/bwa-0.7.15'            # v0.7.5\n",
    "samtools  = '/opt/tools/samtools-1.3.1' # v1.3.1\n",
    "bcftools  = '/opt/tools/bcftools-1.3.1' # v1.3.1\n",
    "\n",
    "# Check\n",
    "!ls {snpFile}\n",
    "print('Number of SNPs in reference file:')\n",
    "!grep -c \">\" {snpFile}\n",
    "\n"
   ]
  },
  {
   "cell_type": "code",
   "execution_count": 87,
   "metadata": {
    "collapsed": false
   },
   "outputs": [
    {
     "data": {
      "text/plain": [
       "(1642, 89.86358099878197, 87.0, 149, 17.053427581930865)"
      ]
     },
     "execution_count": 87,
     "metadata": {},
     "output_type": "execute_result"
    }
   ],
   "source": [
    "#from collections import Counter\n",
    "#fastq_file_name = ''\n",
    "#histogram_data = Counter()\n",
    "hist_array = []\n",
    "hist_arrayG = []\n",
    "hist_arrayA = []\n",
    "hist_arrayC = []\n",
    "hist_arrayT = []\n",
    "with open(fastq_file_name, \"rb\") as infile:\n",
    "    for line in infile:\n",
    "        if line.startswith(b'G'):\n",
    "            read_length = len(line[:-1]) #Last char is \\n\n",
    "            #histogram_data[read_length] += 1\n",
    "            hist_arrayG.append(read_length)\n",
    "with open(fastq_file_name, \"rb\") as infile:\n",
    "    for line in infile:\n",
    "        if line.startswith(b'A'):\n",
    "            read_length = len(line[:-1]) #Last char is \\n\n",
    "            #histogram_data[read_length] += 1\n",
    "            hist_arrayA.append(read_length) \n",
    "with open(fastq_file_name, \"rb\") as infile:\n",
    "    for line in infile:\n",
    "        if line.startswith(b'C'):\n",
    "            read_length = len(line[:-1]) #Last char is \\n\n",
    "            #histogram_data[read_length] += 1\n",
    "            hist_arrayC.append(read_length) \n",
    "with open(fastq_file_name, \"rb\") as infile:\n",
    "    for line in infile:\n",
    "        if line.startswith(b'T'):\n",
    "            read_length = len(line[:-1]) #Last char is \\n\n",
    "            #histogram_data[read_length] += 1\n",
    "            hist_arrayT.append(read_length)\n",
    "\n",
    "hist_array.extend(hist_arrayA)\n",
    "hist_array.extend(hist_arrayC)\n",
    "hist_array.extend(hist_arrayG)\n",
    "hist_array.extend(hist_arrayT)\n",
    "\n",
    "import numpy as np\n",
    "\n",
    "len (hist_array), np.mean(hist_array), np.median(hist_array) , max(hist_array), np.std(hist_array)"
   ]
  },
  {
   "cell_type": "code",
   "execution_count": 88,
   "metadata": {
    "collapsed": false
   },
   "outputs": [
    {
     "name": "stdout",
     "output_type": "stream",
     "text": [
      "[bwa_index] Pack FASTA... 0.00 sec\n",
      "[bwa_index] Construct BWT for the packed sequence...\n",
      "[bwa_index] 0.00 seconds elapse.\n",
      "[bwa_index] Update BWT... 0.00 sec\n",
      "[bwa_index] Pack forward-only FASTA... 0.00 sec\n",
      "[bwa_index] Construct SA from BWT and Occ... 0.00 sec\n",
      "[main] Version: 0.7.15-r1140\n",
      "[main] CMD: /opt/tools/bwa-0.7.15 index /home/senne/nanopore/SNP/known_SNP_sequence/SNP_sequence.fasta\n",
      "[main] Real time: 0.016 sec; CPU: 0.016 sec\n",
      "[M::bwa_idx_load_from_disk] read 0 ALT contigs\n",
      "[M::process] read 1642 sequences (147556 bp)...\n",
      "[M::mem_process_seqs] Processed 1642 reads in 0.124 CPU sec, 0.123 real sec\n",
      "[main] Version: 0.7.15-r1140\n",
      "[main] CMD: /opt/tools/bwa-0.7.15 mem -a /home/senne/nanopore/SNP/known_SNP_sequence/SNP_sequence.fasta /home/senne/nanopore/Multiplex/results/SNP/SNP_BC8-3mism.fasta\n",
      "[main] Real time: 0.137 sec; CPU: 0.131 sec\n",
      "done\n"
     ]
    }
   ],
   "source": [
    "# Map reads to reference sequences\n",
    "#\n",
    "\n",
    "# Build index of the references\n",
    "!{bwa} index {snpFile}\n",
    "\n",
    "# Map reads\n",
    "!{bwa} mem -a {snpFile} {readFile} > {samfile}\n",
    "print('done')"
   ]
  },
  {
   "cell_type": "code",
   "execution_count": 89,
   "metadata": {
    "collapsed": false
   },
   "outputs": [],
   "source": [
    "### %%bash\n",
    "\n",
    "#bwa-0.7.15 index /home/senne/nanopore/SNP/known_SNP_sequence/SNP_sequence.fasta\n",
    "#bwa-0.7.15 mem -x ont2d /home/senne/nanopore/SNP/known_SNP_sequence/SNP_sequence.fasta /home/senne/nanopore/SNP/Nanopore_data/20161122-total-3mism.fasta > /home/senne/nanopore/SNP/results_review/20161122-total-ont2d.sam \n",
    "\n"
   ]
  },
  {
   "cell_type": "code",
   "execution_count": 90,
   "metadata": {
    "collapsed": false
   },
   "outputs": [
    {
     "name": "stdout",
     "output_type": "stream",
     "text": [
      "Done\n"
     ]
    }
   ],
   "source": [
    "# Make sorted bam and index\n",
    "#\n",
    "#\n",
    "!{samtools} view -Sbu {samfile} | {samtools} sort -o {bamfile} -\n",
    "!{samtools} index {bamfile} {bambaifile}\n",
    "print('Done')\n"
   ]
  },
  {
   "cell_type": "code",
   "execution_count": 91,
   "metadata": {
    "collapsed": false
   },
   "outputs": [
    {
     "name": "stdout",
     "output_type": "stream",
     "text": [
      "1642 + 0 in total (QC-passed reads + QC-failed reads)\n",
      "0 + 0 secondary\n",
      "0 + 0 supplementary\n",
      "0 + 0 duplicates\n",
      "913 + 0 mapped (55.60% : N/A)\n",
      "0 + 0 paired in sequencing\n",
      "0 + 0 read1\n",
      "0 + 0 read2\n",
      "0 + 0 properly paired (N/A : N/A)\n",
      "0 + 0 with itself and mate mapped\n",
      "0 + 0 singletons (N/A : N/A)\n",
      "0 + 0 with mate mapped to a different chr\n",
      "0 + 0 with mate mapped to a different chr (mapQ>=5)\n",
      "done\n"
     ]
    }
   ],
   "source": [
    "# Display some stats\n",
    "#\n",
    "\n",
    "!{samtools} flagstat {bamfile}\n",
    "print('done')"
   ]
  },
  {
   "cell_type": "code",
   "execution_count": 92,
   "metadata": {
    "collapsed": false
   },
   "outputs": [
    {
     "name": "stdout",
     "output_type": "stream",
     "text": [
      "Note: Neither --ploidy nor --ploidy-file given, assuming all sites are diploid\n",
      "[mpileup] 1 samples in 1 input files\n",
      "Done\n"
     ]
    }
   ],
   "source": [
    "# Generate vcf file from bam file. Needs the reference and its index file \n",
    "#\n",
    "# Note: the commands below are for samtools and bcftools v1.3.1 (will not work on v0.1.19!)\n",
    "\n",
    "# Reporting all positions\n",
    "!{samtools} mpileup -d 100000 -uf {snpFile} {bamfile} | {bcftools} call -V indels -m - > {vcffile}\n",
    "# Reporting variants only (excludes SNPs homozygous for reference allele)\n",
    "#!{samtools} mpileup -d 100000 -uf {snpFile} {resultDir}/test_sorted.bam | {bcftools} call -V indels -mv - > {resultDir}/test_sorted.bam.vcf\n",
    "\n",
    "print('Done')"
   ]
  },
  {
   "cell_type": "code",
   "execution_count": 93,
   "metadata": {
    "collapsed": false
   },
   "outputs": [
    {
     "name": "stdout",
     "output_type": "stream",
     "text": [
      "##fileformat=VCFv4.2\r\n",
      "##FILTER=<ID=PASS,Description=\"All filters passed\">\r\n",
      "##samtoolsVersion=1.3.1+htslib-1.3.1\r\n",
      "##samtoolsCommand=samtools mpileup -d 100000 -uf /home/senne/nanopore/SNP/known_SNP_sequence/SNP_sequence.fasta /home/senne/nanopore/Multiplex/results/SNP/SNP_BC8.bam\r\n",
      "##reference=file:///home/senne/nanopore/SNP/known_SNP_sequence/SNP_sequence.fasta\r\n",
      "##contig=<ID=rs1490413,length=51>\r\n",
      "##contig=<ID=rs876724,length=51>\r\n",
      "##contig=<ID=rs1357617,length=51>\r\n",
      "##contig=<ID=rs2046361,length=51>\r\n",
      "##contig=<ID=rs717302,length=51>\r\n",
      "##contig=<ID=rs1029047,length=51>\r\n",
      "##contig=<ID=rs917118,length=51>\r\n",
      "##contig=<ID=rs763869,length=51>\r\n",
      "##contig=<ID=rs1015250,length=51>\r\n",
      "##contig=<ID=rs735155,length=51>\r\n",
      "##contig=<ID=rs901398,length=51>\r\n",
      "##contig=<ID=rs2107612,length=51>\r\n",
      "##contig=<ID=rs1886510,length=51>\r\n",
      "##contig=<ID=rs1454361,length=51>\r\n",
      "##contig=<ID=rs2016276,length=51>\r\n",
      "##contig=<ID=rs729172,length=51>\r\n",
      "##contig=<ID=rs740910,length=51>\r\n",
      "##contig=<ID=rs1493232,length=51>\r\n",
      "##contig=<ID=rs719366,length=51>\r\n",
      "##contig=<ID=rs1031825,length=51>\r\n",
      "##contig=<ID=rs722098,length=51>\r\n",
      "##contig=<ID=rs733164,length=51>\r\n",
      "##contig=<ID=rs826472,length=51>\r\n",
      "##contig=<ID=rs2831700,length=51>\r\n",
      "##contig=<ID=rs873196,length=51>\r\n",
      "##contig=<ID=rs1382387,length=51>\r\n",
      "##contig=<ID=rs2111980,length=51>\r\n",
      "##contig=<ID=rs2056277,length=51>\r\n",
      "##contig=<ID=rs1024116,length=51>\r\n",
      "##contig=<ID=rs727811,length=51>\r\n",
      "##contig=<ID=rs1413212,length=51>\r\n",
      "##contig=<ID=rs938283,length=51>\r\n",
      "##contig=<ID=rs1979255,length=51>\r\n",
      "##contig=<ID=rs1463729,length=51>\r\n",
      "##contig=<ID=rs2076848,length=51>\r\n",
      "##contig=<ID=rs1355366,length=51>\r\n",
      "##contig=<ID=rs907100,length=51>\r\n",
      "##contig=<ID=rs354439,length=51>\r\n",
      "##contig=<ID=rs2040411,length=51>\r\n",
      "##contig=<ID=rs737681,length=51>\r\n",
      "##contig=<ID=rs2830795,length=51>\r\n",
      "##contig=<ID=rs251934,length=51>\r\n",
      "##contig=<ID=rs914165,length=51>\r\n",
      "##contig=<ID=rs10495407,length=51>\r\n",
      "##contig=<ID=rs1360288,length=51>\r\n",
      "##contig=<ID=rs964681,length=51>\r\n",
      "##contig=<ID=rs1005533,length=51>\r\n",
      "##contig=<ID=rs8037429,length=51>\r\n",
      "##contig=<ID=rs891700,length=51>\r\n",
      "##contig=<ID=rs1335873,length=51>\r\n",
      "##contig=<ID=rs1028528,length=51>\r\n",
      "##contig=<ID=rs1528460,length=51>\r\n",
      "##ALT=<ID=*,Description=\"Represents allele(s) other than observed.\">\r\n",
      "##INFO=<ID=INDEL,Number=0,Type=Flag,Description=\"Indicates that the variant is an INDEL.\">\r\n",
      "##INFO=<ID=IDV,Number=1,Type=Integer,Description=\"Maximum number of reads supporting an indel\">\r\n",
      "##INFO=<ID=IMF,Number=1,Type=Float,Description=\"Maximum fraction of reads supporting an indel\">\r\n",
      "##INFO=<ID=DP,Number=1,Type=Integer,Description=\"Raw read depth\">\r\n",
      "##INFO=<ID=VDB,Number=1,Type=Float,Description=\"Variant Distance Bias for filtering splice-site artefacts in RNA-seq data (bigger is better)\",Version=\"3\">\r\n",
      "##INFO=<ID=RPB,Number=1,Type=Float,Description=\"Mann-Whitney U test of Read Position Bias (bigger is better)\">\r\n",
      "##INFO=<ID=MQB,Number=1,Type=Float,Description=\"Mann-Whitney U test of Mapping Quality Bias (bigger is better)\">\r\n",
      "##INFO=<ID=BQB,Number=1,Type=Float,Description=\"Mann-Whitney U test of Base Quality Bias (bigger is better)\">\r\n",
      "##INFO=<ID=MQSB,Number=1,Type=Float,Description=\"Mann-Whitney U test of Mapping Quality vs Strand Bias (bigger is better)\">\r\n",
      "##INFO=<ID=SGB,Number=1,Type=Float,Description=\"Segregation based metric.\">\r\n",
      "##INFO=<ID=MQ0F,Number=1,Type=Float,Description=\"Fraction of MQ0 reads (smaller is better)\">\r\n",
      "##FORMAT=<ID=PL,Number=G,Type=Integer,Description=\"List of Phred-scaled genotype likelihoods\">\r\n",
      "##FORMAT=<ID=GT,Number=1,Type=String,Description=\"Genotype\">\r\n",
      "##INFO=<ID=ICB,Number=1,Type=Float,Description=\"Inbreeding Coefficient Binomial test (bigger is better)\">\r\n",
      "##INFO=<ID=HOB,Number=1,Type=Float,Description=\"Bias in the number of HOMs number (smaller is better)\">\r\n",
      "##INFO=<ID=AC,Number=A,Type=Integer,Description=\"Allele count in genotypes for each ALT allele, in the same order as listed\">\r\n",
      "##INFO=<ID=AN,Number=1,Type=Integer,Description=\"Total number of alleles in called genotypes\">\r\n",
      "##INFO=<ID=DP4,Number=4,Type=Integer,Description=\"Number of high-quality ref-forward , ref-reverse, alt-forward and alt-reverse bases\">\r\n",
      "##INFO=<ID=MQ,Number=1,Type=Integer,Description=\"Average mapping quality\">\r\n",
      "##bcftools_callVersion=1.3.1+htslib-1.3.1\r\n",
      "##bcftools_callCommand=call -V indels -m -\r\n",
      "#CHROM\tPOS\tID\tREF\tALT\tQUAL\tFILTER\tINFO\tFORMAT\t/home/senne/nanopore/Multiplex/results/SNP/SNP_BC8.bam\r\n",
      "rs1490413\t1\t.\tA\t.\t0\t.\tDP=53;MQSB=0.87029;MQ0F=0;AN=2;DP4=29,24,0,0;MQ=58\tGT\t0/0\r\n",
      "rs1490413\t2\t.\tC\t.\t0\t.\tDP=53;MQSB=0.87029;MQ0F=0;AN=2;DP4=29,24,0,0;MQ=58\tGT\t0/0\r\n",
      "rs1490413\t3\t.\tT\t.\t0\t.\tDP=53;MQSB=0.87029;MQ0F=0;AN=2;DP4=29,24,0,0;MQ=58\tGT\t0/0\r\n",
      "rs1490413\t4\t.\tG\t.\t0\t.\tDP=55;MQSB=0.763134;MQ0F=0;AN=2;DP4=30,25,0,0;MQ=58\tGT\t0/0\r\n",
      "rs1490413\t5\t.\tG\t.\t0\t.\tDP=58;MQSB=0.755833;MQ0F=0;AN=2;DP4=31,27,0,0;MQ=58\tGT\t0/0\r\n",
      "rs1490413\t6\t.\tG\t.\t0\t.\tDP=58;MQSB=0.755833;MQ0F=0;AN=2;DP4=31,27,0,0;MQ=58\tGT\t0/0\r\n",
      "rs1490413\t7\t.\tC\t.\t0\t.\tDP=58;MQSB=0.755833;MQ0F=0;AN=2;DP4=31,27,0,0;MQ=58\tGT\t0/0\r\n",
      "rs1490413\t8\t.\tT\t.\t0\t.\tDP=59;MQSB=0.778598;MQ0F=0;AN=2;DP4=32,27,0,0;MQ=58\tGT\t0/0\r\n",
      "rs1490413\t9\t.\tG\t.\t0\t.\tDP=59;MQSB=0.778598;MQ0F=0;AN=2;DP4=32,27,0,0;MQ=58\tGT\t0/0\r\n",
      "rs1490413\t10\t.\tA\t.\t0\t.\tDP=59;MQSB=0.778598;MQ0F=0;AN=2;DP4=32,27,0,0;MQ=58\tGT\t0/0\r\n",
      "rs1490413\t11\t.\tT\t.\t0\t.\tDP=59;MQSB=0.778598;MQ0F=0;AN=2;DP4=32,27,0,0;MQ=58\tGT\t0/0\r\n",
      "rs1490413\t12\t.\tG\t.\t0\t.\tDP=58;MQSB=0.620358;MQ0F=0;AN=2;DP4=32,26,0,0;MQ=58\tGT\t0/0\r\n",
      "rs1490413\t13\t.\tT\t.\t0\t.\tDP=59;MQSB=0.643507;MQ0F=0;AN=2;DP4=33,26,0,0;MQ=58\tGT\t0/0\r\n",
      "rs1490413\t14\t.\tG\t.\t29.7045\t.\tDP=58;SGB=-0.379885;RPB=1;MQB=1;MQSB=0.620358;BQB=1;MQ0F=0;AN=2;DP4=31,26,1,0;MQ=58\tGT\t0/0\r\n",
      "rs1490413\t15\t.\tG\t.\t0\t.\tDP=60;MQSB=0.799677;MQ0F=0;AN=2;DP4=33,27,0,0;MQ=58\tGT\t0/0\r\n",
      "rs1490413\t16\t.\tG\t.\t0\t.\tDP=60;MQSB=0.799677;MQ0F=0;AN=2;DP4=33,27,0,0;MQ=58\tGT\t0/0\r\n",
      "rs1490413\t17\t.\tT\t.\t0\t.\tDP=60;MQSB=0.799677;MQ0F=0;AN=2;DP4=33,27,0,0;MQ=58\tGT\t0/0\r\n",
      "rs1490413\t18\t.\tT\t.\t0\t.\tDP=60;MQSB=0.799677;MQ0F=0;AN=2;DP4=33,27,0,0;MQ=58\tGT\t0/0\r\n",
      "rs1490413\t19\t.\tC\t.\t0\t.\tDP=60;MQSB=0.799677;MQ0F=0;AN=2;DP4=33,27,0,0;MQ=58\tGT\t0/0\r\n",
      "rs1490413\t20\t.\tT\t.\t0\t.\tDP=56;MQSB=0.680447;MQ0F=0;AN=2;DP4=32,24,0,0;MQ=58\tGT\t0/0\r\n"
     ]
    }
   ],
   "source": [
    "# Check the vcf file\n",
    "#\n",
    "\n",
    "!head -n 100 {vcffile}"
   ]
  },
  {
   "cell_type": "code",
   "execution_count": 96,
   "metadata": {
    "collapsed": true
   },
   "outputs": [
    {
     "name": "stdout",
     "output_type": "stream",
     "text": [
      "Got data for 48 SNPs:\n",
      "  rs1005533 (1)  A (100.0 %)\n",
      "  rs1015250 (1)  C (0.0 %)  G (100.0 %)\n",
      "  rs1024116 (10)  A (40.0 %)  G (60.0 %)\n",
      "  rs1029047 (1)  A (100.0 %)\n",
      "  rs1031825 (4)  A (75.0 %)  C (25.0 %)\n",
      "  rs10495407 (82)  A (45.1 %)  G (54.9 %)\n",
      "  rs1335873 (5)  A (40.0 %)  T (60.0 %)\n",
      "  rs1355366 (12)  A (58.3 %)  G (41.7 %)\n",
      "  rs1357617 (5)  A (100.0 %)\n",
      "  rs1360288 (10)  C (70.0 %)  T (30.0 %)\n",
      "  rs1382387 (4)  G (100.0 %)\n",
      "  rs1413212 (25)  A (40.0 %)  G (60.0 %)\n",
      "  rs1454361 (14)  A (57.1 %)  T (42.9 %)\n",
      "  rs1463729 (3)  A (33.3 %)  G (66.7 %)\n",
      "  rs1490413 (747)  A (94.2 %)\n",
      "  rs1493232 (109)  A (98.2 %)\n",
      "  rs1528460 (665)  C (2.6 %)  T (97.4 %)\n",
      "  rs1886510 (22)  C (18.2 %)  T (81.8 %)\n",
      "  rs1979255 (5)  C (40.0 %)  G (60.0 %)\n",
      "  rs2016276 (2055)  A (95.5 %)\n",
      "  rs2040411 (9)  A (66.7 %)  G (33.3 %)\n",
      "  rs2046361 (3)  A (66.7 %)  T (33.3 %)\n",
      "  rs2056277 (3)  C (100.0 %)\n",
      "  rs2076848 (30)  A (46.7 %)  T (53.3 %)\n",
      "  rs2107612 (4)  A (100.0 %)\n",
      "  rs2111980 (17)  A (64.7 %)  G (35.3 %)\n",
      "  rs251934 (34)  C (17.6 %)  T (82.4 %)\n",
      "  rs2830795 (2)  A (100.0 %)\n",
      "  rs2831700 (16)  A (100.0 %)\n",
      "  rs354439 (128)  A (49.2 %)  T (50.8 %)\n",
      "  rs717302 (6)  A (83.3 %)  G (16.7 %)\n",
      "  rs719366 (24)  C (75.0 %)  T (25.0 %)\n",
      "  rs722098 (2006)  A (99.4 %)\n",
      "  rs733164 (3)  A (0.0 %)  G (100.0 %)\n",
      "  rs735155 (39)  A (17.9 %)  G (82.1 %)\n",
      "  rs737681 (2)  C (0.0 %)  T (100.0 %)\n",
      "  rs740910 (407)  A (6.1 %)  G (93.9 %)\n",
      "  rs763869 (673)  C (55.3 %)  T (44.7 %)\n",
      "  rs8037429 (2)  C (50.0 %)  T (50.0 %)\n",
      "  rs826472 (6)  C (100.0 %)\n",
      "  rs873196 (16)  C (25.0 %)  T (75.0 %)\n",
      "  rs876724 (1)  C (100.0 %)\n",
      "  rs901398 (2)  C (0.0 %)  T (100.0 %)\n",
      "  rs907100 (3)  C (66.7 %)  G (33.3 %)\n",
      "  rs914165 (210)  A (0.5 %)  G (99.5 %)\n",
      "  rs917118 (2)  C (100.0 %)\n",
      "  rs938283 (14)  C (78.6 %)  T (21.4 %)\n",
      "  rs964681 (2)  C (0.0 %)  T (100.0 %)\n"
     ]
    }
   ],
   "source": [
    "#Get SNP profile\n",
    "\n",
    "\n",
    "snpData = {}\n",
    "\n",
    "with open(vcffile) as f:\n",
    "    for l in f:\n",
    "        if l.startswith('#'):\n",
    "            continue\n",
    "            \n",
    "        snp, pos, id, ref, alt, qual, filter, info, d, dd = l.split()\n",
    "        \n",
    "        # Our SNP of interest is always at position 26 of the reference\n",
    "        if int(pos) != 26:\n",
    "            continue\n",
    "\n",
    "        par = {}\n",
    "        for p in info.split(';'):\n",
    "            pv = p.split('=')\n",
    "            par[pv[0]] = pv[1]\n",
    "        \n",
    "        snpData[snp] = {'pos': pos, 'ref': ref, 'alt': alt, 'qual': qual, 'filter': filter, 'info': par}\n",
    "\n",
    "# DEBUG\n",
    "print('Got data for {} SNPs:'.format(len(snpData)))\n",
    "\n",
    "# Save/print results\n",
    "with open(csvfile', 'w') as f:\n",
    "    # Table header\n",
    "    f.write('snp, coverage, ref_allele, ref_percent, alt_allele, alt_percent, genotype\\n')\n",
    "    \n",
    "    # Table data\n",
    "    for s in sorted(snpData.keys()):\n",
    "        totalDepth = int(snpData[s]['info']['DP'])\n",
    "        depthList  = [int(d) for d in snpData[s]['info']['DP4'].split(',')]\n",
    "        refDepth   = sum(depthList[0:2])\n",
    "        altDepth   = sum(depthList[2:4])\n",
    "        \n",
    "        # Estimate the diploid genotype: when the minor allele is more than 10 times weaker than the major allele,\n",
    "        # we should ignore it for a pure sample?\n",
    "        if refDepth > altDepth and altDepth/refDepth < 0.1:\n",
    "            genotype = snpData[s]['ref'] + snpData[s]['ref']\n",
    "        elif altDepth > refDepth and refDepth/altDepth < 0.1:\n",
    "            genotype = snpData[s]['alt'] + snpData[s]['alt']\n",
    "        else:\n",
    "            genotype = snpData[s]['ref'] + snpData[s]['alt']\n",
    "        \n",
    "        if snpData[s]['alt'] == '.':\n",
    "            # Only 1 allele was observed\n",
    "            f.write(','.join([s, str(totalDepth), snpData[s]['ref'], '{:.1f}'.format(100*refDepth/totalDepth), '', '', snpData[s]['ref']+snpData[s]['ref']]) + '\\n')\n",
    "            # DEBUG\n",
    "            print('  {} ({})  {} ({:.1f} %)'.format(s, totalDepth, snpData[s]['ref'], 100*refDepth/totalDepth))\n",
    "        else:\n",
    "            # Two alleles were observed\n",
    "            f.write(','.join([s, str(totalDepth), snpData[s]['ref'], '{:.1f}'.format(100*refDepth/totalDepth), snpData[s]['alt'], '{:.1f}'.format(100*altDepth/totalDepth), genotype]) + '\\n')\n",
    "            # DEBUG\n",
    "            print('  {} ({})  {} ({:.1f} %)  {} ({:.1f} %)'.format(s, totalDepth, snpData[s]['ref'], 100*refDepth/totalDepth, snpData[s]['alt'], 100*altDepth/totalDepth))\n"
   ]
  },
  {
   "cell_type": "markdown",
   "metadata": {},
   "source": [
    "## Locus count "
   ]
  },
  {
   "cell_type": "code",
   "execution_count": null,
   "metadata": {
    "collapsed": true
   },
   "outputs": [],
   "source": [
    "%%bash\n",
    "\n",
    "############################### To be optimized!!!#####################################\n",
    "\n",
    "  grep -c 'rs2056277' /home/senne/nanopore/SNP/Nanopore_data/20161122-total-3mism.fasta\n",
    "  grep -c 'rs1413212' /home/senne/nanopore/SNP/Nanopore_data/20161122-total-3mism.fasta\n",
    "  grep -c 'rs2107612' /home/senne/nanopore/SNP/Nanopore_data/20161122-total-3mism.fasta\n",
    "  grep -c 'rs2111980' /home/senne/nanopore/SNP/Nanopore_data/20161122-total-3mism.fasta\n",
    "  grep -c 'rs251934' /home/senne/nanopore/SNP/Nanopore_data/20161122-total-3mism.fasta\n",
    "  grep -c 'rs1028528' /home/senne/nanopore/SNP/Nanopore_data/20161122-total-3mism.fasta\n",
    "  grep -c 'rs2831700' /home/senne/nanopore/SNP/Nanopore_data/20161122-total-3mism.fasta\n",
    "  grep -c 'rs901398' /home/senne/nanopore/SNP/Nanopore_data/20161122-total-3mism.fasta\n",
    "  grep -c 'rs722098' /home/senne/nanopore/SNP/Nanopore_data/20161122-total-3mism.fasta \n",
    "  grep -c 'rs2076848' /home/senne/nanopore/SNP/Nanopore_data/20161122-total-3mism.fasta\n",
    "  grep -c 'rs1493232' /home/senne/nanopore/SNP/Nanopore_data/20161122-total-3mism.fasta\n",
    "  grep -c 'rs735155' /home/senne/nanopore/SNP/Nanopore_data/20161122-total-3mism.fasta\n",
    "  grep -c 'rs1528460' /home/senne/nanopore/SNP/Nanopore_data/20161122-total-3mism.fasta\n",
    "  grep -c 'rs1005533' /home/senne/nanopore/SNP/Nanopore_data/20161122-total-3mism.fasta\n",
    "  grep -c 'rs733164' /home/senne/nanopore/SNP/Nanopore_data/20161122-total-3mism.fasta\n",
    "  grep -c 'rs1029047' /home/senne/nanopore/SNP/Nanopore_data/20161122-total-3mism.fasta\n",
    "  grep -c 'rs727811' /home/senne/nanopore/SNP/Nanopore_data/20161122-total-3mism.fasta\n",
    "  grep -c 'rs1024116' /home/senne/nanopore/SNP/Nanopore_data/20161122-total-3mism.fasta\n",
    "  grep -c 'rs1015250' /home/senne/nanopore/SNP/Nanopore_data/20161122-total-3mism.fasta\n",
    "  grep -c 'rs907100' /home/senne/nanopore/SNP/Nanopore_data/20161122-total-3mism.fasta\n",
    "  grep -c 'rs737681' /home/senne/nanopore/SNP/Nanopore_data/20161122-total-3mism.fasta\n",
    "  grep -c 'rs717302' /home/senne/nanopore/SNP/Nanopore_data/20161122-total-3mism.fasta\n",
    "  grep -c 'rs740910' /home/senne/nanopore/SNP/Nanopore_data/20161122-total-3mism.fasta\n",
    "  grep -c 'rs1979255' /home/senne/nanopore/SNP/Nanopore_data/20161122-total-3mism.fasta\n",
    "  grep -c 'rs719366' /home/senne/nanopore/SNP/Nanopore_data/20161122-total-3mism.fasta\n",
    "  grep -c 'rs2040411' /home/senne/nanopore/SNP/Nanopore_data/20161122-total-3mism.fasta\n",
    "  grep -c 'rs2016276' /home/senne/nanopore/SNP/Nanopore_data/20161122-total-3mism.fasta\n",
    "  grep -c 'rs135761' /home/senne/nanopore/SNP/Nanopore_data/20161122-total-3mism.fasta\n",
    "  grep -c 'rs8037429' /home/senne/nanopore/SNP/Nanopore_data/20161122-total-3mism.fasta\n",
    "  grep -c 'rs1335873' /home/senne/nanopore/SNP/Nanopore_data/20161122-total-3mism.fasta\n",
    "  grep -c 'rs876724' /home/senne/nanopore/SNP/Nanopore_data/20161122-total-3mism.fasta\n",
    "  grep -c 'rs354439' /home/senne/nanopore/SNP/Nanopore_data/20161122-total-3mism.fasta\n",
    "  grep -c 'rs1031825' /home/senne/nanopore/SNP/Nanopore_data/20161122-total-3mism.fasta\n",
    "  grep -c 'rs873196' /home/senne/nanopore/SNP/Nanopore_data/20161122-total-3mism.fasta\n",
    "  grep -c 'rs1463729' /home/senne/nanopore/SNP/Nanopore_data/20161122-total-3mism.fasta\n",
    "  grep -c 'rs1886510' /home/senne/nanopore/SNP/Nanopore_data/20161122-total-3mism.fasta\n",
    "  grep -c 'rs763869' /home/senne/nanopore/SNP/Nanopore_data/20161122-total-3mism.fasta\n",
    "  grep -c 'rs2830795' /home/senne/nanopore/SNP/Nanopore_data/20161122-total-3mism.fasta\n",
    "  grep -c 'rs1454361' /home/senne/nanopore/SNP/Nanopore_data/20161122-total-3mism.fasta\n",
    "  grep -c 'rs1355366' /home/senne/nanopore/SNP/Nanopore_data/20161122-total-3mism.fasta\n",
    "  grep -c 'rs938283' /home/senne/nanopore/SNP/Nanopore_data/20161122-total-3mism.fasta\n",
    "  grep -c 'rs1490413' /home/senne/nanopore/SNP/Nanopore_data/20161122-total-3mism.fasta\n",
    "  grep -c 'rs964681' /home/senne/nanopore/SNP/Nanopore_data/20161122-total-3mism.fasta\n",
    "  grep -c 'rs826472' /home/senne/nanopore/SNP/Nanopore_data/20161122-total-3mism.fasta\n",
    "  grep -c 'rs729172' /home/senne/nanopore/SNP/Nanopore_data/20161122-total-3mism.fasta\n",
    "  grep -c 'rs1382387' /home/senne/nanopore/SNP/Nanopore_data/20161122-total-3mism.fasta\n",
    "  grep -c 'rs10495407' /home/senne/nanopore/SNP/Nanopore_data/20161122-total-3mism.fasta\n",
    "  grep -c 'rs891700' /home/senne/nanopore/SNP/Nanopore_data/20161122-total-3mism.fasta\n",
    "  grep -c 'rs917118' /home/senne/nanopore/SNP/Nanopore_data/20161122-total-3mism.fasta\n",
    "  grep -c 'rs914165' /home/senne/nanopore/SNP/Nanopore_data/20161122-total-3mism.fasta\n",
    "  grep -c 'rs2046361' /home/senne/nanopore/SNP/Nanopore_data/20161122-total-3mism.fasta\n",
    "  grep -c 'rs1360288' /home/senne/nanopore/SNP/Nanopore_data/20161122-total-3mism.fasta\n"
   ]
  },
  {
   "cell_type": "code",
   "execution_count": null,
   "metadata": {
    "collapsed": true
   },
   "outputs": [],
   "source": []
  }
 ],
 "metadata": {
  "kernelspec": {
   "display_name": "Python 3",
   "language": "python",
   "name": "python3"
  },
  "language_info": {
   "codemirror_mode": {
    "name": "ipython",
    "version": 3
   },
   "file_extension": ".py",
   "mimetype": "text/x-python",
   "name": "python",
   "nbconvert_exporter": "python",
   "pygments_lexer": "ipython3",
   "version": "3.3.0"
  }
 },
 "nbformat": 4,
 "nbformat_minor": 0
}
