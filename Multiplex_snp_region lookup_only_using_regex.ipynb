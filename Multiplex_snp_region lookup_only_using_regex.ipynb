{
 "cells": [
  {
   "cell_type": "markdown",
   "metadata": {},
   "source": [
    "### Context:\n",
    "\n",
    "52 SNP locations were PCR amplified and the amplicons ligated before nanopore sequencing. Here only the SNP regions (51 nt) and not the larger amplicons are identified using fuzzy regex.  So we forget about primer sequences and just lookup the SNP and its flanking regions.\n"
   ]
  },
  {
   "cell_type": "code",
   "execution_count": 1,
   "metadata": {
    "collapsed": true
   },
   "outputs": [],
   "source": [
    "# Init\n",
    "#\n",
    "\n",
    "readFile      = '/media/sf_vm_shared/nanopore/results/ligated_snp_amplicon_reads.fastq'\n",
    "snpRegionFile = '/media/sf_vm_shared/nanopore/snp_data/SNP_sequence_orig.fasta'\n",
    "resultDir     = '/media/sf_vm_shared/nanopore/results'\n",
    "bwa           = '/usr/bin/bwa'              # v0.7.12, on holmes we have v0.7.5 /opt/tools/bwa\n",
    "samtools      = '/usr/local/bin/samtools'   # v1.3.1,  on holmes we have v1.2   /opt/samtools-1.2\n",
    "bcftools      = '/usr/local/bin/bcftools'   # v1.3.1,  on holmes we have v1.2   /opt/bcftools-1.2"
   ]
  },
  {
   "cell_type": "code",
   "execution_count": 2,
   "metadata": {
    "collapsed": true
   },
   "outputs": [],
   "source": [
    "# Utility functions\n",
    "#\n",
    "\n",
    "def reverseComplement(seq):\n",
    "  transTab = str.maketrans('agctyrwskmdvhbAGCTYRWSKMDVHB', 'tcgarywsmkhbdvTCGARYWSMKHBDV')\n",
    "  return seq.translate(transTab)[::-1]\n"
   ]
  },
  {
   "cell_type": "code",
   "execution_count": 3,
   "metadata": {
    "collapsed": false
   },
   "outputs": [
    {
     "name": "stdout",
     "output_type": "stream",
     "text": [
      "Got data for 52 SNPs\n",
      "rs1005533 {'right': 'AGTCGCCGCTGTTCAGGGGAGGCAT', 'left': 'AGCAAAAAGCAAGAGCCGTGGAATT', 'variants': ['A', 'G']}\n",
      "rs1015250 {'right': 'CTGTCCCAGTGATTTTTCATAAGCA', 'left': 'AGGAAAAGAACCCAGGTGTTTTATT', 'variants': ['C', 'G']}\n",
      "rs1024116 {'right': 'CACTTAATAAAGTATGCCTTTGTAT', 'left': 'TGTTCTAATAAAAAGGATTGCTCAT', 'variants': ['A', 'G']}\n",
      "rs1028528 {'right': 'CTGTGTGCAGATCCGCGGAGGTCTG', 'left': 'AAAAGAAAGGTCCTTACTCGACATC', 'variants': ['A', 'G']}\n",
      "rs1029047 {'right': 'AAAAAAAAACCTCATATCTTTTTTC', 'left': 'AAAGTAAGAATTCAAGATGGTATTT', 'variants': ['A', 'T']}\n",
      "rs1031825 {'right': 'CCCCGAGCATACTTGAAAGCAGTGA', 'left': 'TTTAATGAGTATTTTATTTATCTAA', 'variants': ['A', 'C']}\n",
      "rs10495407 {'right': 'TCCTATTCCATTCTGTTGTTTTTCC', 'left': 'TGGTTGCATTGGATTCTCATTGAAA', 'variants': ['A', 'G']}\n",
      "rs1335873 {'right': 'ATACTGAGTACATAGCTAGGTACCT', 'left': 'TGCAGGTATGTATTGTTGGCCGTGG', 'variants': ['A', 'T']}\n",
      "rs1355366 {'right': 'GGACTTGCCAAAGCCAGTTGTGGCC', 'left': 'AGAGCCACTGGAGGCCTCGAGGATG', 'variants': ['A', 'G']}\n",
      "rs1357617 {'right': 'GCTTGGTCATGTTTCTTATCAGCTA', 'left': 'TTGACTTCCCAAGCTGAATTTGGGG', 'variants': ['A', 'T']}\n",
      "rs1360288 {'right': 'ACTGGCTGCATCCCCTCAACAGATG', 'left': 'GGGGAGTAGAGGAGACCTGGGAAGA', 'variants': ['C', 'T']}\n",
      "rs1382387 {'right': 'TCCCTGCAGTGGGCAGATGCAGCGT', 'left': 'GAAGGAGAAACACCTGAACTTTCAA', 'variants': ['G', 'T']}\n",
      "rs1413212 {'right': 'CATTTCACTTATATGAACAAATGTC', 'left': 'AACACTGACAGTGGTGGAGCATGGG', 'variants': ['A', 'G']}\n",
      "rs1454361 {'right': 'TGTTGTTTCTAAATGGATACTGAAA', 'left': 'AGGAGGGAAATACACCCTGAGCTGC', 'variants': ['A', 'T']}\n",
      "rs1463729 {'right': 'TGCAGCCATTCCCACCCAAAAGCAT', 'left': 'TTTGGCAGCATACACTCATAGCCAC', 'variants': ['A', 'G']}\n",
      "rs1490413 {'right': 'AACTGGCTGGCCTCAGAGCAGGGAC', 'left': 'ACTGGGCTGATGTGGGTTCTTTGCA', 'variants': ['A', 'G']}\n",
      "rs1493232 {'right': 'CAAAATAAACAGGCCTCACAATAAA', 'left': 'TATTCTCTCTTTTGGGTGCTAGGCC', 'variants': ['A', 'C']}\n",
      "rs1528460 {'right': 'TGAAAAATGTTACAGTAAAAGTTTT', 'left': 'ATATTTAGCCTTAACATATTTAAGA', 'variants': ['C', 'T']}\n",
      "rs1886510 {'right': 'GCAAGTGTTGTTGTGAAAATCCAGG', 'left': 'AATTCTTAAAAGAATAAGCAATATT', 'variants': ['C', 'T']}\n",
      "rs1979255 {'right': 'AGCAAGAGTTCCAACGTTCCATGCC', 'left': 'CCACGAAAGTTCTTCTCCTATGGAT', 'variants': ['C', 'G']}\n",
      "rs2016276 {'right': 'GCACATTTTTCTCTCTCTCAGCCAC', 'left': 'GCAAAGACAGTCCACACATTCAGCT', 'variants': ['A', 'G']}\n",
      "rs2040411 {'right': 'TATTTCATGAGAACTGGTTTTCATA', 'left': 'CTCTGTATTTTCTTACTCTAAGTGC', 'variants': ['A', 'G']}\n",
      "rs2046361 {'right': 'TAGAAGGTGAAGTGTCAACAATGAC', 'left': 'ACGATCATTTTCAAAATTAAAATTA', 'variants': ['A', 'T']}\n",
      "rs2056277 {'right': 'GGGAGTTCAAGACAGGGAAGTATGA', 'left': 'GTTAGGGAGACAGGCATGAATGAGA', 'variants': ['C', 'T']}\n",
      "rs2076848 {'right': 'TGATGGACCTGAAGCGGTCCCGGGC', 'left': 'TGGCCTCACCACCAGAAATCAGGGC', 'variants': ['A', 'T']}\n",
      "rs2107612 {'right': 'CTTTTCTCCAAAACAGTTGAATAAT', 'left': 'GTGTTTTTTCTAAATCATATTGTCT', 'variants': ['A', 'G']}\n",
      "rs2111980 {'right': 'AGCTCCAGCCTGGTGCCTCCGCTCC', 'left': 'TCAAAGCATCTTGGCAGCATCCTTC', 'variants': ['A', 'G']}\n",
      "rs251934 {'right': 'GGGACAGCCAGATATCTACTACTTC', 'left': 'GAGGGCAGTGAGGCTTTTAAGTAGA', 'variants': ['C', 'T']}\n",
      "rs2830795 {'right': 'GCAAAGAAGTCCTATTATATTGCTG', 'left': 'GGACACACCATTTTATTGTCTAAAG', 'variants': ['A', 'G']}\n",
      "rs2831700 {'right': 'AGTTAGAAGGCCAAAGACAGATAAT', 'left': 'ATTTGGCTAAACTATTGCCGGAGAT', 'variants': ['A', 'G']}\n",
      "rs354439 {'right': 'TTAAGCACAATATTCTGAATATCAT', 'left': 'TATCTCTCTCATGTATCACATTCCT', 'variants': ['A', 'T']}\n",
      "rs717302 {'right': 'GTGAACGTCTGTCATTAGGTTTAGC', 'left': 'GAAAGGCATATCGTATTAACTGTGT', 'variants': ['A', 'G']}\n",
      "rs719366 {'right': 'AGCTACTCCTCTGGGGGCCTGTCCT', 'left': 'CCTGCTTTTCCTCCTCCCATTCTAG', 'variants': ['C', 'T']}\n",
      "rs722098 {'right': 'TAAGGATTTAAATTTTGGATGTGCT', 'left': 'TGTTGACAGTAATGAAATATCCTTG', 'variants': ['A', 'G']}\n",
      "rs727811 {'right': 'AATCATCTGCATCTCCCAGCAATCT', 'left': 'CTCTTACCGGAACTTCAACGACTTA', 'variants': ['A', 'C']}\n",
      "rs729172 {'right': 'GAATGTATGTAACCGCAAGAGGGAA', 'left': 'ATATGACCAAGGCTCCTCTGCAGAC', 'variants': ['A', 'C']}\n",
      "rs733164 {'right': 'TTTGCCTGACATTCCTGAGCCGGGC', 'left': 'ACCAACAGGCCATCCCACTTGGAAA', 'variants': ['A', 'G']}\n",
      "rs735155 {'right': 'CTTCCCGTTGAATTCGGTGACACTC', 'left': 'CCGCGCTGGAGAGGGAGACCTGCTG', 'variants': ['A', 'G']}\n",
      "rs737681 {'right': 'TCATCCCTGGGCCCAGGTGCAGTCT', 'left': 'GGTCACATGTGAGGCCATCTCCACC', 'variants': ['C', 'T']}\n",
      "rs740910 {'right': 'TTTGTAAAAAGCAAAACAAAATAAA', 'left': 'AGTAAGGTGAGTGGTATAATCATAT', 'variants': ['A', 'G']}\n",
      "rs763869 {'right': 'TGCATTACATTATGAGGGAGTAGCC', 'left': 'TTTGTTTATATTATTTCTAACTCAA', 'variants': ['C', 'T']}\n",
      "rs8037429 {'right': 'GTAGCGCAAGAGTTATTTCTGTACT', 'left': 'CTCCATAGTAATAATGTAAGAGTTA', 'variants': ['C', 'T']}\n",
      "rs826472 {'right': 'CAGGATAGCAGATTAATTAGTCTAT', 'left': 'TGTTATATTAGTCACCTATCTCTCA', 'variants': ['C', 'T']}\n",
      "rs873196 {'right': 'TTGTAATGTGAACATGCCTGATTGA', 'left': 'TGCATTCAAATCCCAAGTGCTGCCC', 'variants': ['C', 'T']}\n",
      "rs876724 {'right': 'ATTTTTTGTCACACTCTGCTAACTG', 'left': 'ATACCACTGCACTGAAGTATAAGTA', 'variants': ['C', 'T']}\n",
      "rs891700 {'right': 'CTTGCATAGTTCTAAGGAGTGTCAT', 'left': 'TTCCATTCTTTTTTTTTTGAAGCCT', 'variants': ['A', 'G']}\n",
      "rs901398 {'right': 'GTTGATAGCTAACATTAGTTTCTTG', 'left': 'GTGCAAACTAGCTGAATATCAGCCC', 'variants': ['C', 'T']}\n",
      "rs907100 {'right': 'AAAGAAGGCTCCAACTGGGCTTCTT', 'left': 'GAGGCAATTCATGATGCCCTGGCAT', 'variants': ['C', 'G']}\n",
      "rs914165 {'right': 'ACACCCTCAGGCAGCTCTGCTGAGC', 'left': 'GATGCTGATGGGCACCAAAGAGGGC', 'variants': ['A', 'G']}\n",
      "rs917118 {'right': 'GCTCGTTGACCTCAGTCATCTCTTA', 'left': 'AAGATGGAGTCAACATTTTACAAGA', 'variants': ['C', 'T']}\n",
      "rs938283 {'right': 'ATTTGGAGATAGGACCCTTACCAGG', 'left': 'ACCCCTAGTACGTTAGATGTGACCG', 'variants': ['C', 'T']}\n",
      "rs964681 {'right': 'GGGCATTTGGGGCCACAGTGCTCAG', 'left': 'GTGATTTCTGTGAGGAACGTCGACA', 'variants': ['C', 'T']}\n"
     ]
    }
   ],
   "source": [
    "# Get SNP definitions\n",
    "#\n",
    "\n",
    "snpDefs    = {}\n",
    "snpRefFile = resultDir + '/snp_region_references.fasta'\n",
    "\n",
    "with open(snpRegionFile) as fasta:\n",
    "  cnt = 0\n",
    "  for line in fasta:\n",
    "    if line[0] == '>':\n",
    "      snpName = line[1:].strip()\n",
    "    else:\n",
    "      # AGCTAGCT[A/G]AGCTAGCT\n",
    "      i = line.index('[')\n",
    "      j = line.index(']')\n",
    "      \n",
    "      snpDefs[snpName] = {\n",
    "        'left':  line[:i].strip(),\n",
    "        'right': line[j+1:].strip(),\n",
    "        'variants': line[i+1:j].split('/')\n",
    "      }\n",
    "\n",
    "print('Got data for {} SNPs'.format(len(snpDefs)))\n",
    "\n",
    "with open(snpRefFile, 'w') as fasta:\n",
    "  for snpDef in sorted(snpDefs):\n",
    "    fasta.write('>' + snpDef + '\\n')\n",
    "    fasta.write(snpDefs[snpDef]['left'] + snpDefs[snpDef]['variants'][0] + snpDefs[snpDef]['right'] + '\\n')\n",
    "    \n",
    "    # DEBUG\n",
    "    print(snpDef, snpDefs[snpDef])\n",
    "    "
   ]
  },
  {
   "cell_type": "code",
   "execution_count": 4,
   "metadata": {
    "collapsed": false
   },
   "outputs": [
    {
     "name": "stdout",
     "output_type": "stream",
     "text": [
      "Loaded 14324 sequences\n"
     ]
    }
   ],
   "source": [
    "# Load sequencing data (ligated amplicons)\n",
    "#\n",
    "\n",
    "readData = {}\n",
    "\n",
    "with open(readFile) as f:\n",
    "  cnt = 0\n",
    "\n",
    "  for l in f:\n",
    "    cnt += 1\n",
    "    if cnt % 4 == 1:\n",
    "      seqName = l.strip()\n",
    "    elif cnt % 4 == 2:\n",
    "      seqData = l.strip()\n",
    "      readData[seqName] = seqData\n",
    "    else:\n",
    "      continue\n",
    "            \n",
    "print('Loaded {} sequences'.format(len(readData)))\n"
   ]
  },
  {
   "cell_type": "code",
   "execution_count": 5,
   "metadata": {
    "collapsed": false,
    "scrolled": false
   },
   "outputs": [
    {
     "name": "stdout",
     "output_type": "stream",
     "text": [
      "rs2076848 ['A', 'T'] regex.Regex('(?e)(TGGCCTCACCACCAGAAATCAGGGC[AT]TGATGGACCTGAAGCGGTCCCGGGC){e<=3}', flags=regex.V0)\n",
      "  Identified 81 regions allowing up to 3 errors\n",
      "rs1029047 ['A', 'T'] regex.Regex('(?e)(AAAGTAAGAATTCAAGATGGTATTT[AT]AAAAAAAAACCTCATATCTTTTTTC){e<=3}', flags=regex.V0)\n",
      "  Identified 0 regions allowing up to 3 errors\n",
      "rs917118 ['C', 'T'] regex.Regex('(?e)(AAGATGGAGTCAACATTTTACAAGA[CT]GCTCGTTGACCTCAGTCATCTCTTA){e<=3}', flags=regex.V0)\n",
      "  Identified 446 regions allowing up to 3 errors\n",
      "rs1490413 ['A', 'G'] regex.Regex('(?e)(ACTGGGCTGATGTGGGTTCTTTGCA[AG]AACTGGCTGGCCTCAGAGCAGGGAC){e<=3}', flags=regex.V0)\n",
      "  Identified 275 regions allowing up to 3 errors\n",
      "rs1335873 ['A', 'T'] regex.Regex('(?e)(TGCAGGTATGTATTGTTGGCCGTGG[AT]ATACTGAGTACATAGCTAGGTACCT){e<=3}', flags=regex.V0)\n",
      "  Identified 235 regions allowing up to 3 errors\n",
      "rs719366 ['C', 'T'] regex.Regex('(?e)(CCTGCTTTTCCTCCTCCCATTCTAG[CT]AGCTACTCCTCTGGGGGCCTGTCCT){e<=3}', flags=regex.V0)\n",
      "  Identified 165 regions allowing up to 3 errors\n",
      "rs1493232 ['A', 'C'] regex.Regex('(?e)(TATTCTCTCTTTTGGGTGCTAGGCC[AC]CAAAATAAACAGGCCTCACAATAAA){e<=3}', flags=regex.V0)\n",
      "  Identified 80 regions allowing up to 3 errors\n",
      "rs1979255 ['C', 'G'] regex.Regex('(?e)(CCACGAAAGTTCTTCTCCTATGGAT[CG]AGCAAGAGTTCCAACGTTCCATGCC){e<=3}', flags=regex.V0)\n",
      "  Identified 188 regions allowing up to 3 errors\n",
      "rs826472 ['C', 'T'] regex.Regex('(?e)(TGTTATATTAGTCACCTATCTCTCA[CT]CAGGATAGCAGATTAATTAGTCTAT){e<=3}', flags=regex.V0)\n",
      "  Identified 202 regions allowing up to 3 errors\n",
      "rs251934 ['C', 'T'] regex.Regex('(?e)(GAGGGCAGTGAGGCTTTTAAGTAGA[CT]GGGACAGCCAGATATCTACTACTTC){e<=3}', flags=regex.V0)\n",
      "  Identified 255 regions allowing up to 3 errors\n",
      "rs733164 ['A', 'G'] regex.Regex('(?e)(ACCAACAGGCCATCCCACTTGGAAA[AG]TTTGCCTGACATTCCTGAGCCGGGC){e<=3}', flags=regex.V0)\n",
      "  Identified 108 regions allowing up to 3 errors\n",
      "rs873196 ['C', 'T'] regex.Regex('(?e)(TGCATTCAAATCCCAAGTGCTGCCC[CT]TTGTAATGTGAACATGCCTGATTGA){e<=3}', flags=regex.V0)\n",
      "  Identified 135 regions allowing up to 3 errors\n",
      "rs1005533 ['A', 'G'] regex.Regex('(?e)(AGCAAAAAGCAAGAGCCGTGGAATT[AG]AGTCGCCGCTGTTCAGGGGAGGCAT){e<=3}', flags=regex.V0)\n",
      "  Identified 136 regions allowing up to 3 errors\n",
      "rs8037429 ['C', 'T'] regex.Regex('(?e)(CTCCATAGTAATAATGTAAGAGTTA[CT]GTAGCGCAAGAGTTATTTCTGTACT){e<=3}', flags=regex.V0)\n",
      "  Identified 106 regions allowing up to 3 errors\n",
      "rs737681 ['C', 'T'] regex.Regex('(?e)(GGTCACATGTGAGGCCATCTCCACC[CT]TCATCCCTGGGCCCAGGTGCAGTCT){e<=3}', flags=regex.V0)\n",
      "  Identified 89 regions allowing up to 3 errors\n",
      "rs1024116 ['A', 'G'] regex.Regex('(?e)(TGTTCTAATAAAAAGGATTGCTCAT[AG]CACTTAATAAAGTATGCCTTTGTAT){e<=3}', flags=regex.V0)\n",
      "  Identified 191 regions allowing up to 3 errors\n",
      "rs729172 ['A', 'C'] regex.Regex('(?e)(ATATGACCAAGGCTCCTCTGCAGAC[AC]GAATGTATGTAACCGCAAGAGGGAA){e<=3}', flags=regex.V0)\n",
      "  Identified 290 regions allowing up to 3 errors\n",
      "rs1413212 ['A', 'G'] regex.Regex('(?e)(AACACTGACAGTGGTGGAGCATGGG[AG]CATTTCACTTATATGAACAAATGTC){e<=3}', flags=regex.V0)\n",
      "  Identified 219 regions allowing up to 3 errors\n",
      "rs964681 ['C', 'T'] regex.Regex('(?e)(GTGATTTCTGTGAGGAACGTCGACA[CT]GGGCATTTGGGGCCACAGTGCTCAG){e<=3}', flags=regex.V0)\n",
      "  Identified 288 regions allowing up to 3 errors\n",
      "rs2831700 ['A', 'G'] regex.Regex('(?e)(ATTTGGCTAAACTATTGCCGGAGAT[AG]AGTTAGAAGGCCAAAGACAGATAAT){e<=3}', flags=regex.V0)\n",
      "  Identified 106 regions allowing up to 3 errors\n",
      "rs10495407 ['A', 'G'] regex.Regex('(?e)(TGGTTGCATTGGATTCTCATTGAAA[AG]TCCTATTCCATTCTGTTGTTTTTCC){e<=3}', flags=regex.V0)\n",
      "  Identified 285 regions allowing up to 3 errors\n",
      "rs914165 ['A', 'G'] regex.Regex('(?e)(GATGCTGATGGGCACCAAAGAGGGC[AG]ACACCCTCAGGCAGCTCTGCTGAGC){e<=3}', flags=regex.V0)\n",
      "  Identified 286 regions allowing up to 3 errors\n",
      "rs1355366 ['A', 'G'] regex.Regex('(?e)(AGAGCCACTGGAGGCCTCGAGGATG[AG]GGACTTGCCAAAGCCAGTTGTGGCC){e<=3}', flags=regex.V0)\n",
      "  Identified 343 regions allowing up to 3 errors\n",
      "rs1015250 ['C', 'G'] regex.Regex('(?e)(AGGAAAAGAACCCAGGTGTTTTATT[CG]CTGTCCCAGTGATTTTTCATAAGCA){e<=3}', flags=regex.V0)\n",
      "  Identified 158 regions allowing up to 3 errors\n",
      "rs938283 ['C', 'T'] regex.Regex('(?e)(ACCCCTAGTACGTTAGATGTGACCG[CT]ATTTGGAGATAGGACCCTTACCAGG){e<=3}', flags=regex.V0)\n",
      "  Identified 177 regions allowing up to 3 errors\n",
      "rs763869 ['C', 'T'] regex.Regex('(?e)(TTTGTTTATATTATTTCTAACTCAA[CT]TGCATTACATTATGAGGGAGTAGCC){e<=3}', flags=regex.V0)\n",
      "  Identified 235 regions allowing up to 3 errors\n",
      "rs717302 ['A', 'G'] regex.Regex('(?e)(GAAAGGCATATCGTATTAACTGTGT[AG]GTGAACGTCTGTCATTAGGTTTAGC){e<=3}', flags=regex.V0)\n",
      "  Identified 235 regions allowing up to 3 errors\n",
      "rs354439 ['A', 'T'] regex.Regex('(?e)(TATCTCTCTCATGTATCACATTCCT[AT]TTAAGCACAATATTCTGAATATCAT){e<=3}', flags=regex.V0)\n",
      "  Identified 165 regions allowing up to 3 errors\n",
      "rs1454361 ['A', 'T'] regex.Regex('(?e)(AGGAGGGAAATACACCCTGAGCTGC[AT]TGTTGTTTCTAAATGGATACTGAAA){e<=3}', flags=regex.V0)\n",
      "  Identified 91 regions allowing up to 3 errors\n",
      "rs1528460 ['C', 'T'] regex.Regex('(?e)(ATATTTAGCCTTAACATATTTAAGA[CT]TGAAAAATGTTACAGTAAAAGTTTT){e<=3}', flags=regex.V0)\n",
      "  Identified 190 regions allowing up to 3 errors\n",
      "rs1886510 ['C', 'T'] regex.Regex('(?e)(AATTCTTAAAAGAATAAGCAATATT[CT]GCAAGTGTTGTTGTGAAAATCCAGG){e<=3}', flags=regex.V0)\n",
      "  Identified 94 regions allowing up to 3 errors\n",
      "rs2040411 ['A', 'G'] regex.Regex('(?e)(CTCTGTATTTTCTTACTCTAAGTGC[AG]TATTTCATGAGAACTGGTTTTCATA){e<=3}', flags=regex.V0)\n",
      "  Identified 168 regions allowing up to 3 errors\n",
      "rs2056277 ['C', 'T'] regex.Regex('(?e)(GTTAGGGAGACAGGCATGAATGAGA[CT]GGGAGTTCAAGACAGGGAAGTATGA){e<=3}', flags=regex.V0)\n",
      "  Identified 299 regions allowing up to 3 errors\n",
      "rs722098 ['A', 'G'] regex.Regex('(?e)(TGTTGACAGTAATGAAATATCCTTG[AG]TAAGGATTTAAATTTTGGATGTGCT){e<=3}', flags=regex.V0)\n",
      "  Identified 334 regions allowing up to 3 errors\n",
      "rs876724 ['C', 'T'] regex.Regex('(?e)(ATACCACTGCACTGAAGTATAAGTA[CT]ATTTTTTGTCACACTCTGCTAACTG){e<=3}', flags=regex.V0)\n",
      "  Identified 128 regions allowing up to 3 errors\n",
      "rs2830795 ['A', 'G'] regex.Regex('(?e)(GGACACACCATTTTATTGTCTAAAG[AG]GCAAAGAAGTCCTATTATATTGCTG){e<=3}', flags=regex.V0)\n",
      "  Identified 164 regions allowing up to 3 errors\n",
      "rs1360288 ['C', 'T'] regex.Regex('(?e)(GGGGAGTAGAGGAGACCTGGGAAGA[CT]ACTGGCTGCATCCCCTCAACAGATG){e<=3}', flags=regex.V0)\n",
      "  Identified 439 regions allowing up to 3 errors\n",
      "rs2107612 ['A', 'G'] regex.Regex('(?e)(GTGTTTTTTCTAAATCATATTGTCT[AG]CTTTTCTCCAAAACAGTTGAATAAT){e<=3}', flags=regex.V0)\n",
      "  Identified 114 regions allowing up to 3 errors\n",
      "rs1382387 ['G', 'T'] regex.Regex('(?e)(GAAGGAGAAACACCTGAACTTTCAA[GT]TCCCTGCAGTGGGCAGATGCAGCGT){e<=3}', flags=regex.V0)\n",
      "  Identified 319 regions allowing up to 3 errors\n",
      "rs891700 ['A', 'G'] regex.Regex('(?e)(TTCCATTCTTTTTTTTTTGAAGCCT[AG]CTTGCATAGTTCTAAGGAGTGTCAT){e<=3}', flags=regex.V0)\n",
      "  Identified 0 regions allowing up to 3 errors\n",
      "rs727811 ['A', 'C'] regex.Regex('(?e)(CTCTTACCGGAACTTCAACGACTTA[AC]AATCATCTGCATCTCCCAGCAATCT){e<=3}', flags=regex.V0)\n",
      "  Identified 237 regions allowing up to 3 errors\n",
      "rs735155 ['A', 'G'] regex.Regex('(?e)(CCGCGCTGGAGAGGGAGACCTGCTG[AG]CTTCCCGTTGAATTCGGTGACACTC){e<=3}', flags=regex.V0)\n",
      "  Identified 230 regions allowing up to 3 errors\n",
      "rs2046361 ['A', 'T'] regex.Regex('(?e)(ACGATCATTTTCAAAATTAAAATTA[AT]TAGAAGGTGAAGTGTCAACAATGAC){e<=3}', flags=regex.V0)\n",
      "  Identified 239 regions allowing up to 3 errors\n",
      "rs2111980 ['A', 'G'] regex.Regex('(?e)(TCAAAGCATCTTGGCAGCATCCTTC[AG]AGCTCCAGCCTGGTGCCTCCGCTCC){e<=3}', flags=regex.V0)\n",
      "  Identified 63 regions allowing up to 3 errors\n",
      "rs2016276 ['A', 'G'] regex.Regex('(?e)(GCAAAGACAGTCCACACATTCAGCT[AG]GCACATTTTTCTCTCTCTCAGCCAC){e<=3}', flags=regex.V0)\n",
      "  Identified 104 regions allowing up to 3 errors\n",
      "rs1031825 ['A', 'C'] regex.Regex('(?e)(TTTAATGAGTATTTTATTTATCTAA[AC]CCCCGAGCATACTTGAAAGCAGTGA){e<=3}', flags=regex.V0)\n",
      "  Identified 252 regions allowing up to 3 errors\n",
      "rs1463729 ['A', 'G'] regex.Regex('(?e)(TTTGGCAGCATACACTCATAGCCAC[AG]TGCAGCCATTCCCACCCAAAAGCAT){e<=3}', flags=regex.V0)\n",
      "  Identified 216 regions allowing up to 3 errors\n",
      "rs1028528 ['A', 'G'] regex.Regex('(?e)(AAAAGAAAGGTCCTTACTCGACATC[AG]CTGTGTGCAGATCCGCGGAGGTCTG){e<=3}', flags=regex.V0)\n",
      "  Identified 210 regions allowing up to 3 errors\n",
      "rs907100 ['C', 'G'] regex.Regex('(?e)(GAGGCAATTCATGATGCCCTGGCAT[CG]AAAGAAGGCTCCAACTGGGCTTCTT){e<=3}', flags=regex.V0)\n",
      "  Identified 218 regions allowing up to 3 errors\n",
      "rs901398 ['C', 'T'] regex.Regex('(?e)(GTGCAAACTAGCTGAATATCAGCCC[CT]GTTGATAGCTAACATTAGTTTCTTG){e<=3}', flags=regex.V0)\n",
      "  Identified 224 regions allowing up to 3 errors\n",
      "rs1357617 ['A', 'T'] regex.Regex('(?e)(TTGACTTCCCAAGCTGAATTTGGGG[AT]GCTTGGTCATGTTTCTTATCAGCTA){e<=3}', flags=regex.V0)\n",
      "  Identified 223 regions allowing up to 3 errors\n",
      "rs740910 ['A', 'G'] regex.Regex('(?e)(AGTAAGGTGAGTGGTATAATCATAT[AG]TTTGTAAAAAGCAAAACAAAATAAA){e<=3}', flags=regex.V0)\n",
      "  Identified 167 regions allowing up to 3 errors\n",
      "Amplicons not found:\n",
      "rs1029047 ['A', 'T'] regex.Regex('(?e)(AAAGTAAGAATTCAAGATGGTATTT[AT]AAAAAAAAACCTCATATCTTTTTTC){e<=3}', flags=regex.V0)\n",
      "rs891700 ['A', 'G'] regex.Regex('(?e)(TTCCATTCTTTTTTTTTTGAAGCCT[AG]CTTGCATAGTTCTAAGGAGTGTCAT){e<=3}', flags=regex.V0)\n",
      "Done\n"
     ]
    }
   ],
   "source": [
    "# Lookup SNP regions\n",
    "#\n",
    "\n",
    "import regex\n",
    "\n",
    "maxMisMatch  = 3\n",
    "matchData    = {}\n",
    "notFoundList = []\n",
    "\n",
    "for snpDef in snpDefs:\n",
    "  #pattern           = regex.compile('(?e)({}.{}){{e<={}}}'.format(snpDefs[snpDef]['left'], snpDefs[snpDef]['right'], maxMisMatch))\n",
    "  pattern           = regex.compile('(?e)({}[{}]{}){{e<={}}}'.format(snpDefs[snpDef]['left'], ''.join(snpDefs[snpDef]['variants']), snpDefs[snpDef]['right'], maxMisMatch))\n",
    "  matchData[snpDef] = []\n",
    "  \n",
    "  # Print locus name to indicate progress\n",
    "  print(snpDef, snpDefs[snpDef]['variants'], pattern)\n",
    "    \n",
    "  for seq in readData:\n",
    "    # Scan the sense strand\n",
    "    for match in pattern.finditer(readData[seq]):\n",
    "      b, e     = match.span()\n",
    "      seqMatch = readData[seq][b:e]\n",
    "      matchData[snpDef].append((seq, 'sense', b, e, seqMatch))\n",
    "      \n",
    "    # Scan the anti-sense strand\n",
    "    rcSeq = reverseComplement(readData[seq])\n",
    "    for match in pattern.finditer(rcSeq):\n",
    "      b, e     = match.span()\n",
    "      seqMatch = rcSeq[b:e]\n",
    "      matchData[snpDef].append((seq, 'anti-sense', b, e, seqMatch))\n",
    "      \n",
    "  print('  Identified {} regions allowing up to {} errors'.format(len(matchData[snpDef]), maxMisMatch))\n",
    "  \n",
    "  if len(matchData[snpDef]) == 0:\n",
    "    notFoundList.append('{} {} {}'.format(snpDef, snpDefs[snpDef]['variants'], pattern))\n",
    "  \n",
    "# Print not found\n",
    "print()\n",
    "print('Amplicons not found:')\n",
    "for a in notFoundList:\n",
    "  print(a)\n",
    "\n",
    "print('Done')"
   ]
  },
  {
   "cell_type": "code",
   "execution_count": 6,
   "metadata": {
    "collapsed": false
   },
   "outputs": [
    {
     "name": "stdout",
     "output_type": "stream",
     "text": [
      "Saved 10202 regions for 52 SNPs\n"
     ]
    }
   ],
   "source": [
    "# Save identified SNP regions\n",
    "#\n",
    "\n",
    "snpFile = '/media/sf_vm_shared/nanopore/results/potential_snp_regions_{}mism.fasta'.format(maxMisMatch)\n",
    "cnt     = 0\n",
    "\n",
    "with open(snpFile, 'w') as f:\n",
    "  for snp in sorted(matchData):\n",
    "    for match in matchData[snp]:\n",
    "      cnt += 1\n",
    "      # (seq, 'sense', b, e, seqMatch)\n",
    "      f.write('>{} {} {} {}\\n'.format(cnt, snp, match[1], match[0]))\n",
    "      f.write(match[4] + '\\n')\n",
    "\n",
    "      \n",
    "print('Saved {} regions for {} SNPs'.format(cnt, len(matchData)))"
   ]
  },
  {
   "cell_type": "code",
   "execution_count": 9,
   "metadata": {
    "collapsed": false
   },
   "outputs": [
    {
     "name": "stdout",
     "output_type": "stream",
     "text": [
      "[bwa_index] Pack FASTA... 0.00 sec\n",
      "[bwa_index] Construct BWT for the packed sequence...\n",
      "[bwa_index] 0.00 seconds elapse.\n",
      "[bwa_index] Update BWT... 0.00 sec\n",
      "[bwa_index] Pack forward-only FASTA... 0.00 sec\n",
      "[bwa_index] Construct SA from BWT and Occ... 0.01 sec\n",
      "[main] Version: 0.7.12-r1039\n",
      "[main] CMD: /usr/bin/bwa index /media/sf_vm_shared/nanopore/results/snp_region_references.fasta\n",
      "[main] Real time: 0.089 sec; CPU: 0.014 sec\n",
      "[M::bwa_idx_load_from_disk] read 0 ALT contigs\n",
      "[M::process] read 10202 sequences (516294 bp)...\n",
      "[M::mem_process_seqs] Processed 10202 reads in 0.318 CPU sec, 0.198 real sec\n",
      "[main] Version: 0.7.12-r1039\n",
      "[main] CMD: /usr/bin/bwa mem -t 2 -x ont2d /media/sf_vm_shared/nanopore/results/snp_region_references.fasta /media/sf_vm_shared/nanopore/results/potential_snp_regions_3mism.fasta\n",
      "[main] Real time: 0.289 sec; CPU: 0.354 sec\n"
     ]
    }
   ],
   "source": [
    "# Map SNP regions to reference sequences\n",
    "#\n",
    "resultFileBase = 'ttt_{}mism_snpregions'.format(maxMisMatch)\n",
    "\n",
    "# Build index of the references\n",
    "!{bwa} index {snpRefFile}\n",
    "\n",
    "# Map reads (use BWA's nanopore specific option)\n",
    "!{bwa} mem -t 2 -x ont2d {snpRefFile} {snpFile} > {resultDir}/{resultFileBase}.sam\n"
   ]
  },
  {
   "cell_type": "code",
   "execution_count": 10,
   "metadata": {
    "collapsed": false
   },
   "outputs": [],
   "source": [
    "# Make sorted bam and index\n",
    "#\n",
    "\n",
    "!{samtools} view -Sbu {resultDir}/{resultFileBase}.sam | {samtools} sort -o {resultDir}/{resultFileBase}_sorted.bam -\n",
    "!{samtools} index {resultDir}/{resultFileBase}_sorted.bam {resultDir}/{resultFileBase}_sorted.bam.bai\n"
   ]
  },
  {
   "cell_type": "code",
   "execution_count": 11,
   "metadata": {
    "collapsed": false
   },
   "outputs": [
    {
     "name": "stdout",
     "output_type": "stream",
     "text": [
      "10202 + 0 in total (QC-passed reads + QC-failed reads)\r\n",
      "0 + 0 secondary\r\n",
      "0 + 0 supplementary\r\n",
      "0 + 0 duplicates\r\n",
      "9997 + 0 mapped (97.99% : N/A)\r\n",
      "0 + 0 paired in sequencing\r\n",
      "0 + 0 read1\r\n",
      "0 + 0 read2\r\n",
      "0 + 0 properly paired (N/A : N/A)\r\n",
      "0 + 0 with itself and mate mapped\r\n",
      "0 + 0 singletons (N/A : N/A)\r\n",
      "0 + 0 with mate mapped to a different chr\r\n",
      "0 + 0 with mate mapped to a different chr (mapQ>=5)\r\n"
     ]
    }
   ],
   "source": [
    "# Display some mapping stats\n",
    "#\n",
    "\n",
    "!{samtools} flagstat {resultDir}/{resultFileBase}_sorted.bam\n"
   ]
  },
  {
   "cell_type": "code",
   "execution_count": 12,
   "metadata": {
    "collapsed": false
   },
   "outputs": [
    {
     "name": "stdout",
     "output_type": "stream",
     "text": [
      "[mpileup] 1 samples in 1 input files\n",
      "Note: Neither --ploidy nor --ploidy-file given, assuming all sites are diploid\n",
      "Note: Neither --ploidy nor --ploidy-file given, assuming all sites are diploid\n",
      "[mpileup] 1 samples in 1 input files\n"
     ]
    }
   ],
   "source": [
    "# Generate vcf file from bam file. Needs the reference and its index file \n",
    "#\n",
    "# Note: the commands below are for samtools and bcftools v1.3.1 (will not work on v0.1.19!)\n",
    "\n",
    "# Reporting all positions (skip indels)\n",
    "!{samtools} mpileup -d 100000 -uf {snpRefFile} {resultDir}/{resultFileBase}_sorted.bam | {bcftools} call -V indels -m - > {resultDir}/{resultFileBase}_sorted.bam.vcf\n",
    "\n",
    "# Reporting variants only (excludes SNPs homozygous for reference allele) (skip indels)\n",
    "!{samtools} mpileup -d 100000 -uf {snpRefFile} {resultDir}/{resultFileBase}_sorted.bam | {bcftools} call -V indels -mv - > {resultDir}/{resultFileBase}_no_indels_sorted.bam.vcf\n",
    "\n"
   ]
  },
  {
   "cell_type": "code",
   "execution_count": 13,
   "metadata": {
    "collapsed": false
   },
   "outputs": [
    {
     "name": "stdout",
     "output_type": "stream",
     "text": [
      "Got data for 50 SNPs:\n",
      "  rs1005533 (135)  A (58.5 %)  G (41.5 %) [222]\n",
      "  rs1015250 (144)  C (0.0 %)  G (100.0 %) [228]\n",
      "  rs1024116 (173)  A (28.3 %)  G (71.7 %) [222]\n",
      "  rs1028528 (198)  A (0.0 %)  G (100.0 %) [228]\n",
      "  rs1031825 (233)  A (24.5 %)  C (75.5 %) [221]\n",
      "  rs10495407 (282)  A (52.8 %)  G (47.2 %) [222]\n",
      "  rs1335873 (214)  A (1.4 %)  T (98.6 %) [228]\n",
      "  rs1355366 (268)  A (2.2 %)  G (97.8 %) [228]\n",
      "  rs1357617 (218)  A (99.5 %) [0]\n",
      "  rs1360288 (426)  C (48.1 %)  T (51.9 %) [222]\n",
      "  rs1382387 (270)  G (1.1 %)  T (98.9 %) [228]\n",
      "  rs1413212 (209)  A (52.2 %)  G (47.8 %) [222]\n",
      "  rs1454361 (91)  A (100.0 %) [0]\n",
      "  rs1463729 (202)  A (93.6 %) [0]\n",
      "  rs1490413 (272)  A (98.5 %) [0]\n",
      "  rs1493232 (63)  A (60.3 %)  C (39.7 %) [222]\n",
      "  rs1528460 (178)  C (1.1 %)  T (98.9 %) [228]\n",
      "  rs1886510 (89)  C (2.2 %)  T (97.8 %) [228]\n",
      "  rs1979255 (188)  C (98.4 %) [0]\n",
      "  rs2016276 (102)  A (88.2 %)  G (11.8 %) [56]\n",
      "  rs2040411 (159)  A (0.6 %)  G (99.4 %) [228]\n",
      "  rs2046361 (227)  A (5.3 %)  T (94.7 %) [228]\n",
      "  rs2056277 (280)  C (44.6 %)  T (55.4 %) [222]\n",
      "  rs2076848 (80)  A (68.8 %)  T (31.2 %) [222]\n",
      "  rs2107612 (108)  A (0.0 %)  G (100.0 %) [228]\n",
      "  rs2111980 (62)  A (43.5 %)  G (56.5 %) [222]\n",
      "  rs251934 (222)  C (1.4 %)  T (98.6 %) [228]\n",
      "  rs2830795 (151)  A (55.0 %)  G (45.0 %) [222]\n",
      "  rs2831700 (106)  A (98.1 %) [0]\n",
      "  rs354439 (126)  A (66.7 %)  T (33.3 %) [222]\n",
      "  rs717302 (190)  A (7.4 %)  G (92.6 %) [228]\n",
      "  rs719366 (156)  C (51.3 %)  T (48.7 %) [222]\n",
      "  rs722098 (331)  A (99.4 %) [0]\n",
      "  rs727811 (228)  A (4.4 %)  C (95.6 %) [228]\n",
      "  rs729172 (268)  A (51.9 %)  C (48.1 %) [222]\n",
      "  rs733164 (108)  A (18.5 %)  G (81.5 %) [220]\n",
      "  rs735155 (209)  A (1.9 %)  G (98.1 %) [228]\n",
      "  rs737681 (89)  C (100.0 %) [0]\n",
      "  rs740910 (144)  A (0.7 %)  G (99.3 %) [228]\n",
      "  rs763869 (217)  C (55.3 %)  T (44.7 %) [222]\n",
      "  rs8037429 (105)  C (50.5 %)  T (49.5 %) [222]\n",
      "  rs826472 (195)  C (99.5 %) [0]\n",
      "  rs873196 (130)  C (12.3 %)  T (87.7 %) [219]\n",
      "  rs876724 (125)  C (100.0 %) [0]\n",
      "  rs901398 (221)  C (44.8 %)  T (55.2 %) [222]\n",
      "  rs907100 (205)  C (95.1 %) [0]\n",
      "  rs914165 (273)  A (3.3 %)  G (96.7 %) [228]\n",
      "  rs917118 (444)  C (99.5 %) [0]\n",
      "  rs938283 (174)  C (59.2 %)  T (40.8 %) [222]\n",
      "  rs964681 (269)  C (4.1 %)  T (95.9 %) [228]\n"
     ]
    }
   ],
   "source": [
    "# Get SNP profile\n",
    "#\n",
    "\n",
    "snpData = {}\n",
    "\n",
    "with open(resultDir+'/' + resultFileBase + '_sorted.bam.vcf') as f:\n",
    "    for l in f:\n",
    "        if l.startswith('#'):\n",
    "            continue\n",
    "            \n",
    "        snp, pos, id, ref, alt, qual, filter, info, d, dd = l.split()\n",
    "        \n",
    "        # Our SNP of interest is always at position 26 of the reference\n",
    "        if int(pos) != 26:\n",
    "            continue\n",
    "\n",
    "        par = {}\n",
    "        for p in info.split(';'):\n",
    "            pv = p.split('=')\n",
    "            par[pv[0]] = pv[1]\n",
    "        \n",
    "        snpData[snp] = {'pos': pos, 'ref': ref, 'alt': alt, 'qual': qual, 'filter': filter, 'info': par}\n",
    "\n",
    "# DEBUG\n",
    "print('Got data for {} SNPs:'.format(len(snpData)))\n",
    "\n",
    "# Save/print results\n",
    "with open(resultDir +'/' + resultFileBase + '_profile.csv', 'w') as f:\n",
    "    # Table header\n",
    "    f.write('snp, coverage, ref_allele, ref_percent, alt_allele, alt_percent, other_percent, genotype, real, comment, seq\\n')\n",
    "    \n",
    "    # Table data\n",
    "    for s in sorted(snpData):\n",
    "        totalDepth = int(snpData[s]['info']['DP'])\n",
    "        depthList  = [int(d) for d in snpData[s]['info']['DP4'].split(',')]\n",
    "        refDepth   = sum(depthList[0:2])\n",
    "        altDepth   = sum(depthList[2:4])\n",
    "        \n",
    "        # Estimate the diploid genotype: when the minor allele is more than 10 times weaker than the major allele,\n",
    "        # we should ignore it for a pure sample?\n",
    "        if refDepth > altDepth and altDepth/refDepth < 0.1:\n",
    "            genotype = snpData[s]['ref'] + snpData[s]['ref']\n",
    "        elif altDepth > refDepth and refDepth/altDepth < 0.1:\n",
    "            genotype = snpData[s]['alt'] + snpData[s]['alt']\n",
    "        else:\n",
    "            genotype = snpData[s]['ref'] + snpData[s]['alt']\n",
    "        \n",
    "        seq = snpDefs[s]['left'] + '[' + '/'.join(snpDefs[s]['variants']) + ']' + snpDefs[s]['right']\n",
    "        \n",
    "        if snpData[s]['alt'] == '.':\n",
    "            # Only 1 allele was observed\n",
    "            f.write(','.join([s, str(totalDepth), snpData[s]['ref'], '{:.1f}'.format(100*refDepth/totalDepth), '', '', '{:.1f}'.format(100.0-100*refDepth/totalDepth), snpData[s]['ref']+snpData[s]['ref'], '', '', seq + '\\n']))\n",
    "            # DEBUG\n",
    "            print('  {} ({})  {} ({:.1f} %) [{}]'.format(s, totalDepth, snpData[s]['ref'], 100*refDepth/totalDepth, snpData[s]['qual']))\n",
    "        else:\n",
    "            # Two alleles were observed\n",
    "            f.write(','.join([s, str(totalDepth), snpData[s]['ref'], '{:.1f}'.format(100*refDepth/totalDepth), snpData[s]['alt'], '{:.1f}'.format(100*altDepth/totalDepth), '{:.1f}'.format(100.0-100*refDepth/totalDepth-100*altDepth/totalDepth), genotype, '', '', seq + '\\n']))\n",
    "            # DEBUG\n",
    "            print('  {} ({})  {} ({:.1f} %)  {} ({:.1f} %) [{}]'.format(s, totalDepth, snpData[s]['ref'], 100*refDepth/totalDepth, snpData[s]['alt'], 100*altDepth/totalDepth, snpData[s]['qual']))\n"
   ]
  },
  {
   "cell_type": "markdown",
   "metadata": {
    "collapsed": true
   },
   "source": [
    "### Notes\n",
    "* Allowing 0 mismatch does not retrieve regions for 7 SNP's and has lower than 10 coverage for 14 of the retrieved ones.  This results in too many unreliable calls.\n",
    "* Allowing 1 mismatch does not retrieve regions for 2 SNP's.  Regions have a coverage between 1 and 146.  Still lower than 10 coverage for 5 regions resulting in unreliable calls.\n",
    "* Allowing 2 mismatch does not retrieve regions for 2 SNP's.  All retrieved regions have coverage between 18 and 282. Using an minimum observation frequency threshold of 10%, 3 SNP's are miscalled (homozygotes seen as heterozygous).  When using a threshold of 25%, only one SNP is miscalled.\n",
    "* Allowing 3 mismatch does not retrieve regions for 2 SNP's. Regions have a coverage between 62 and 444.\n",
    "\n",
    "#### Not detected with up to 3 allowed mismatches (not including the SNP itself)\n",
    "rs1029047 ['A', 'T'] regex.Regex('(?e)(AAAGTAAGAATTCAAGATGGTATTT[AT]AAAAAAAAACCTCATATCTTTTTTC){e<=1}', flags=regex.V0)\n",
    "\n",
    "rs891700 ['A', 'G'] regex.Regex('(?e)(TTCCATTCTTTTTTTTTTGAAGCCT[AG]CTTGCATAGTTCTAAGGAGTGTCAT){e<=1}', flags=regex.V0)\n",
    "\n"
   ]
  },
  {
   "cell_type": "code",
   "execution_count": null,
   "metadata": {
    "collapsed": true
   },
   "outputs": [],
   "source": []
  }
 ],
 "metadata": {
  "kernelspec": {
   "display_name": "Python 3",
   "language": "python",
   "name": "python3"
  },
  "language_info": {
   "codemirror_mode": {
    "name": "ipython",
    "version": 3
   },
   "file_extension": ".py",
   "mimetype": "text/x-python",
   "name": "python",
   "nbconvert_exporter": "python",
   "pygments_lexer": "ipython3",
   "version": "3.3.0"
  }
 },
 "nbformat": 4,
 "nbformat_minor": 0
}
